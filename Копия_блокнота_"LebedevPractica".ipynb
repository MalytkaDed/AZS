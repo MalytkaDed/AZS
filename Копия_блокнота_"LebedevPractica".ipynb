{
  "metadata": {
    "kernelspec": {
      "display_name": "Python 3",
      "name": "python3"
    },
    "language_info": {
      "name": "python",
      "version": "3.10.13",
      "mimetype": "text/x-python",
      "codemirror_mode": {
        "name": "ipython",
        "version": 3
      },
      "pygments_lexer": "ipython3",
      "nbconvert_exporter": "python",
      "file_extension": ".py"
    },
    "kaggle": {
      "accelerator": "none",
      "dataSources": [
        {
          "sourceId": 8471020,
          "sourceType": "datasetVersion",
          "datasetId": 5051137
        }
      ],
      "dockerImageVersionId": 30698,
      "isInternetEnabled": false,
      "language": "python",
      "sourceType": "notebook",
      "isGpuEnabled": false
    },
    "colab": {
      "provenance": [],
      "gpuType": "T4",
      "include_colab_link": true
    },
    "accelerator": "GPU"
  },
  "nbformat_minor": 0,
  "nbformat": 4,
  "cells": [
    {
      "cell_type": "markdown",
      "metadata": {
        "id": "view-in-github",
        "colab_type": "text"
      },
      "source": [
        "<a href=\"https://colab.research.google.com/github/MalytkaDed/AZS/blob/master/%D0%9A%D0%BE%D0%BF%D0%B8%D1%8F_%D0%B1%D0%BB%D0%BE%D0%BA%D0%BD%D0%BE%D1%82%D0%B0_%22LebedevPractica%22.ipynb\" target=\"_parent\"><img src=\"https://colab.research.google.com/assets/colab-badge.svg\" alt=\"Open In Colab\"/></a>"
      ]
    },
    {
      "source": [
        "\n",
        "# IMPORTANT: RUN THIS CELL IN ORDER TO IMPORT YOUR KAGGLE DATA SOURCES\n",
        "# TO THE CORRECT LOCATION (/kaggle/input) IN YOUR NOTEBOOK,\n",
        "# THEN FEEL FREE TO DELETE THIS CELL.\n",
        "# NOTE: THIS NOTEBOOK ENVIRONMENT DIFFERS FROM KAGGLE'S PYTHON\n",
        "# ENVIRONMENT SO THERE MAY BE MISSING LIBRARIES USED BY YOUR\n",
        "# NOTEBOOK.\n",
        "\n",
        "import os\n",
        "import sys\n",
        "from tempfile import NamedTemporaryFile\n",
        "from urllib.request import urlopen\n",
        "from urllib.parse import unquote, urlparse\n",
        "from urllib.error import HTTPError\n",
        "from zipfile import ZipFile\n",
        "import tarfile\n",
        "import shutil\n",
        "\n",
        "CHUNK_SIZE = 40960\n",
        "DATA_SOURCE_MAPPING = 'plants-dataset:https%3A%2F%2Fstorage.googleapis.com%2Fkaggle-data-sets%2F5051137%2F8471020%2Fbundle%2Farchive.zip%3FX-Goog-Algorithm%3DGOOG4-RSA-SHA256%26X-Goog-Credential%3Dgcp-kaggle-com%2540kaggle-161607.iam.gserviceaccount.com%252F20240523%252Fauto%252Fstorage%252Fgoog4_request%26X-Goog-Date%3D20240523T161222Z%26X-Goog-Expires%3D259200%26X-Goog-SignedHeaders%3Dhost%26X-Goog-Signature%3D9610dfbaef98eaa9e51b2886dd444587d9de589af101a20b62dd581df473b4e68337e787d14c53b5b4593bef8e9b976dbc752f902a62527f8e617f6b7a5f143e72c39dc4a3fb5cbc29b0532ebe39fc2ff139142c1350093a79e1dbf9fbf81fd21a86aba8f35e48af158dc512c0c402f36529e20def3d4c8b3a142739a16115d9bd42c5fc56e2802d042a737f63fb20fa3adba5320a19c8dfb9bcf270a40f9e64f0bdff5bff9d717cb98aae64c3582ed4959042e08bfda8648f4f7fdf4cea6eb245371d12ca8b9832a5297e4ca2fc2ecdcd183530628e1105ba0241dc87db6b7d309349cf2c76f3a00aa4da662727c244130bdf5307196a40463427eeefcdb16b'\n",
        "\n",
        "KAGGLE_INPUT_PATH='/kaggle/input'\n",
        "KAGGLE_WORKING_PATH='/kaggle/working'\n",
        "KAGGLE_SYMLINK='kaggle'\n",
        "\n",
        "!umount /kaggle/input/ 2> /dev/null\n",
        "shutil.rmtree('/kaggle/input', ignore_errors=True)\n",
        "os.makedirs(KAGGLE_INPUT_PATH, 0o777, exist_ok=True)\n",
        "os.makedirs(KAGGLE_WORKING_PATH, 0o777, exist_ok=True)\n",
        "\n",
        "try:\n",
        "  os.symlink(KAGGLE_INPUT_PATH, os.path.join(\"..\", 'input'), target_is_directory=True)\n",
        "except FileExistsError:\n",
        "  pass\n",
        "try:\n",
        "  os.symlink(KAGGLE_WORKING_PATH, os.path.join(\"..\", 'working'), target_is_directory=True)\n",
        "except FileExistsError:\n",
        "  pass\n",
        "\n",
        "for data_source_mapping in DATA_SOURCE_MAPPING.split(','):\n",
        "    directory, download_url_encoded = data_source_mapping.split(':')\n",
        "    download_url = unquote(download_url_encoded)\n",
        "    filename = urlparse(download_url).path\n",
        "    destination_path = os.path.join(KAGGLE_INPUT_PATH, directory)\n",
        "    try:\n",
        "        with urlopen(download_url) as fileres, NamedTemporaryFile() as tfile:\n",
        "            total_length = fileres.headers['content-length']\n",
        "            print(f'Downloading {directory}, {total_length} bytes compressed')\n",
        "            dl = 0\n",
        "            data = fileres.read(CHUNK_SIZE)\n",
        "            while len(data) > 0:\n",
        "                dl += len(data)\n",
        "                tfile.write(data)\n",
        "                done = int(50 * dl / int(total_length))\n",
        "                sys.stdout.write(f\"\\r[{'=' * done}{' ' * (50-done)}] {dl} bytes downloaded\")\n",
        "                sys.stdout.flush()\n",
        "                data = fileres.read(CHUNK_SIZE)\n",
        "            if filename.endswith('.zip'):\n",
        "              with ZipFile(tfile) as zfile:\n",
        "                zfile.extractall(destination_path)\n",
        "            else:\n",
        "              with tarfile.open(tfile.name) as tarfile:\n",
        "                tarfile.extractall(destination_path)\n",
        "            print(f'\\nDownloaded and uncompressed: {directory}')\n",
        "    except HTTPError as e:\n",
        "        print(f'Failed to load (likely expired) {download_url} to path {destination_path}')\n",
        "        continue\n",
        "    except OSError as e:\n",
        "        print(f'Failed to load {download_url} to path {destination_path}')\n",
        "        continue\n",
        "\n",
        "print('Data source import complete.')"
      ],
      "metadata": {
        "id": "dwgA38mTTQ2V",
        "colab": {
          "base_uri": "https://localhost:8080/"
        },
        "outputId": "40100228-1016-444b-b589-8d9d71f4ce0e"
      },
      "cell_type": "code",
      "outputs": [
        {
          "output_type": "stream",
          "name": "stdout",
          "text": [
            "Downloading plants-dataset, 281777433 bytes compressed\n",
            "[==================================================] 281777433 bytes downloaded\n",
            "Downloaded and uncompressed: plants-dataset\n",
            "Data source import complete.\n"
          ]
        }
      ],
      "execution_count": null
    },
    {
      "cell_type": "markdown",
      "source": [
        "**Импортируемые библиотеки**"
      ],
      "metadata": {
        "id": "BFR0miKuTQ2Y"
      }
    },
    {
      "cell_type": "code",
      "source": [
        "import os\n",
        "import numpy as np\n",
        "from tensorflow.keras.models import Sequential\n",
        "import pandas as pd\n",
        "import keras\n",
        "from sklearn.model_selection import train_test_split\n",
        "import tensorflow as tf\n",
        "import matplotlib.pyplot as plt\n",
        "import random\n",
        "import plotly.express as px\n",
        "import scipy as sp\n",
        "from tensorflow.keras.layers import Input, Conv2D, MaxPooling2D, Flatten, Dense, BatchNormalization, Dropout, Add\n",
        "from tensorflow.keras.models import Model\n",
        "from tensorflow.keras.optimizers import Adam\n",
        "from tensorflow.keras.callbacks import LearningRateScheduler\n",
        "from tensorflow.keras.preprocessing.image import ImageDataGenerator"
      ],
      "metadata": {
        "execution": {
          "iopub.status.busy": "2024-05-23T16:11:07.26304Z",
          "iopub.execute_input": "2024-05-23T16:11:07.263456Z",
          "iopub.status.idle": "2024-05-23T16:11:25.321814Z",
          "shell.execute_reply.started": "2024-05-23T16:11:07.263425Z",
          "shell.execute_reply": "2024-05-23T16:11:25.320313Z"
        },
        "trusted": true,
        "id": "lbqDE7yWTQ2Z"
      },
      "execution_count": null,
      "outputs": []
    },
    {
      "cell_type": "markdown",
      "source": [
        "***Проверека распределения данных***"
      ],
      "metadata": {
        "id": "k9RIlie1TQ2a"
      }
    },
    {
      "cell_type": "code",
      "source": [
        "class_names = ['flower', 'forest', 'house_plant']\n",
        "\n",
        "n_flowers = len(os.listdir('/kaggle/input/plants-dataset/Var_6/flower'))\n",
        "\n",
        "n_forests = len(os.listdir('/kaggle/input/plants-dataset/Var_6/forest'))\n",
        "\n",
        "n_plants = len(os.listdir('/kaggle/input/plants-dataset/Var_6/house_plant'))\n",
        "\n",
        "n_images = [n_flowers, n_forests, n_plants]\n",
        "\n",
        "px.pie(names=class_names, values=n_images)"
      ],
      "metadata": {
        "execution": {
          "iopub.status.busy": "2024-05-23T16:11:25.324545Z",
          "iopub.execute_input": "2024-05-23T16:11:25.32531Z",
          "iopub.status.idle": "2024-05-23T16:11:27.658948Z",
          "shell.execute_reply.started": "2024-05-23T16:11:25.325273Z",
          "shell.execute_reply": "2024-05-23T16:11:27.657514Z"
        },
        "trusted": true,
        "id": "uJLyv32UTQ2a",
        "colab": {
          "base_uri": "https://localhost:8080/",
          "height": 542
        },
        "outputId": "7f6a20af-bbe3-4d3b-d804-edba3000487b"
      },
      "execution_count": null,
      "outputs": [
        {
          "output_type": "display_data",
          "data": {
            "text/html": [
              "<html>\n",
              "<head><meta charset=\"utf-8\" /></head>\n",
              "<body>\n",
              "    <div>            <script src=\"https://cdnjs.cloudflare.com/ajax/libs/mathjax/2.7.5/MathJax.js?config=TeX-AMS-MML_SVG\"></script><script type=\"text/javascript\">if (window.MathJax && window.MathJax.Hub && window.MathJax.Hub.Config) {window.MathJax.Hub.Config({SVG: {font: \"STIX-Web\"}});}</script>                <script type=\"text/javascript\">window.PlotlyConfig = {MathJaxConfig: 'local'};</script>\n",
              "        <script charset=\"utf-8\" src=\"https://cdn.plot.ly/plotly-2.24.1.min.js\"></script>                <div id=\"31494d4f-042c-4ff5-9d58-359817ef9956\" class=\"plotly-graph-div\" style=\"height:525px; width:100%;\"></div>            <script type=\"text/javascript\">                                    window.PLOTLYENV=window.PLOTLYENV || {};                                    if (document.getElementById(\"31494d4f-042c-4ff5-9d58-359817ef9956\")) {                    Plotly.newPlot(                        \"31494d4f-042c-4ff5-9d58-359817ef9956\",                        [{\"domain\":{\"x\":[0.0,1.0],\"y\":[0.0,1.0]},\"hovertemplate\":\"label=%{label}\\u003cbr\\u003evalue=%{value}\\u003cextra\\u003e\\u003c\\u002fextra\\u003e\",\"labels\":[\"flower\",\"forest\",\"house_plant\"],\"legendgroup\":\"\",\"name\":\"\",\"showlegend\":true,\"values\":[2745,2626,481],\"type\":\"pie\"}],                        {\"template\":{\"data\":{\"histogram2dcontour\":[{\"type\":\"histogram2dcontour\",\"colorbar\":{\"outlinewidth\":0,\"ticks\":\"\"},\"colorscale\":[[0.0,\"#0d0887\"],[0.1111111111111111,\"#46039f\"],[0.2222222222222222,\"#7201a8\"],[0.3333333333333333,\"#9c179e\"],[0.4444444444444444,\"#bd3786\"],[0.5555555555555556,\"#d8576b\"],[0.6666666666666666,\"#ed7953\"],[0.7777777777777778,\"#fb9f3a\"],[0.8888888888888888,\"#fdca26\"],[1.0,\"#f0f921\"]]}],\"choropleth\":[{\"type\":\"choropleth\",\"colorbar\":{\"outlinewidth\":0,\"ticks\":\"\"}}],\"histogram2d\":[{\"type\":\"histogram2d\",\"colorbar\":{\"outlinewidth\":0,\"ticks\":\"\"},\"colorscale\":[[0.0,\"#0d0887\"],[0.1111111111111111,\"#46039f\"],[0.2222222222222222,\"#7201a8\"],[0.3333333333333333,\"#9c179e\"],[0.4444444444444444,\"#bd3786\"],[0.5555555555555556,\"#d8576b\"],[0.6666666666666666,\"#ed7953\"],[0.7777777777777778,\"#fb9f3a\"],[0.8888888888888888,\"#fdca26\"],[1.0,\"#f0f921\"]]}],\"heatmap\":[{\"type\":\"heatmap\",\"colorbar\":{\"outlinewidth\":0,\"ticks\":\"\"},\"colorscale\":[[0.0,\"#0d0887\"],[0.1111111111111111,\"#46039f\"],[0.2222222222222222,\"#7201a8\"],[0.3333333333333333,\"#9c179e\"],[0.4444444444444444,\"#bd3786\"],[0.5555555555555556,\"#d8576b\"],[0.6666666666666666,\"#ed7953\"],[0.7777777777777778,\"#fb9f3a\"],[0.8888888888888888,\"#fdca26\"],[1.0,\"#f0f921\"]]}],\"heatmapgl\":[{\"type\":\"heatmapgl\",\"colorbar\":{\"outlinewidth\":0,\"ticks\":\"\"},\"colorscale\":[[0.0,\"#0d0887\"],[0.1111111111111111,\"#46039f\"],[0.2222222222222222,\"#7201a8\"],[0.3333333333333333,\"#9c179e\"],[0.4444444444444444,\"#bd3786\"],[0.5555555555555556,\"#d8576b\"],[0.6666666666666666,\"#ed7953\"],[0.7777777777777778,\"#fb9f3a\"],[0.8888888888888888,\"#fdca26\"],[1.0,\"#f0f921\"]]}],\"contourcarpet\":[{\"type\":\"contourcarpet\",\"colorbar\":{\"outlinewidth\":0,\"ticks\":\"\"}}],\"contour\":[{\"type\":\"contour\",\"colorbar\":{\"outlinewidth\":0,\"ticks\":\"\"},\"colorscale\":[[0.0,\"#0d0887\"],[0.1111111111111111,\"#46039f\"],[0.2222222222222222,\"#7201a8\"],[0.3333333333333333,\"#9c179e\"],[0.4444444444444444,\"#bd3786\"],[0.5555555555555556,\"#d8576b\"],[0.6666666666666666,\"#ed7953\"],[0.7777777777777778,\"#fb9f3a\"],[0.8888888888888888,\"#fdca26\"],[1.0,\"#f0f921\"]]}],\"surface\":[{\"type\":\"surface\",\"colorbar\":{\"outlinewidth\":0,\"ticks\":\"\"},\"colorscale\":[[0.0,\"#0d0887\"],[0.1111111111111111,\"#46039f\"],[0.2222222222222222,\"#7201a8\"],[0.3333333333333333,\"#9c179e\"],[0.4444444444444444,\"#bd3786\"],[0.5555555555555556,\"#d8576b\"],[0.6666666666666666,\"#ed7953\"],[0.7777777777777778,\"#fb9f3a\"],[0.8888888888888888,\"#fdca26\"],[1.0,\"#f0f921\"]]}],\"mesh3d\":[{\"type\":\"mesh3d\",\"colorbar\":{\"outlinewidth\":0,\"ticks\":\"\"}}],\"scatter\":[{\"fillpattern\":{\"fillmode\":\"overlay\",\"size\":10,\"solidity\":0.2},\"type\":\"scatter\"}],\"parcoords\":[{\"type\":\"parcoords\",\"line\":{\"colorbar\":{\"outlinewidth\":0,\"ticks\":\"\"}}}],\"scatterpolargl\":[{\"type\":\"scatterpolargl\",\"marker\":{\"colorbar\":{\"outlinewidth\":0,\"ticks\":\"\"}}}],\"bar\":[{\"error_x\":{\"color\":\"#2a3f5f\"},\"error_y\":{\"color\":\"#2a3f5f\"},\"marker\":{\"line\":{\"color\":\"#E5ECF6\",\"width\":0.5},\"pattern\":{\"fillmode\":\"overlay\",\"size\":10,\"solidity\":0.2}},\"type\":\"bar\"}],\"scattergeo\":[{\"type\":\"scattergeo\",\"marker\":{\"colorbar\":{\"outlinewidth\":0,\"ticks\":\"\"}}}],\"scatterpolar\":[{\"type\":\"scatterpolar\",\"marker\":{\"colorbar\":{\"outlinewidth\":0,\"ticks\":\"\"}}}],\"histogram\":[{\"marker\":{\"pattern\":{\"fillmode\":\"overlay\",\"size\":10,\"solidity\":0.2}},\"type\":\"histogram\"}],\"scattergl\":[{\"type\":\"scattergl\",\"marker\":{\"colorbar\":{\"outlinewidth\":0,\"ticks\":\"\"}}}],\"scatter3d\":[{\"type\":\"scatter3d\",\"line\":{\"colorbar\":{\"outlinewidth\":0,\"ticks\":\"\"}},\"marker\":{\"colorbar\":{\"outlinewidth\":0,\"ticks\":\"\"}}}],\"scattermapbox\":[{\"type\":\"scattermapbox\",\"marker\":{\"colorbar\":{\"outlinewidth\":0,\"ticks\":\"\"}}}],\"scatterternary\":[{\"type\":\"scatterternary\",\"marker\":{\"colorbar\":{\"outlinewidth\":0,\"ticks\":\"\"}}}],\"scattercarpet\":[{\"type\":\"scattercarpet\",\"marker\":{\"colorbar\":{\"outlinewidth\":0,\"ticks\":\"\"}}}],\"carpet\":[{\"aaxis\":{\"endlinecolor\":\"#2a3f5f\",\"gridcolor\":\"white\",\"linecolor\":\"white\",\"minorgridcolor\":\"white\",\"startlinecolor\":\"#2a3f5f\"},\"baxis\":{\"endlinecolor\":\"#2a3f5f\",\"gridcolor\":\"white\",\"linecolor\":\"white\",\"minorgridcolor\":\"white\",\"startlinecolor\":\"#2a3f5f\"},\"type\":\"carpet\"}],\"table\":[{\"cells\":{\"fill\":{\"color\":\"#EBF0F8\"},\"line\":{\"color\":\"white\"}},\"header\":{\"fill\":{\"color\":\"#C8D4E3\"},\"line\":{\"color\":\"white\"}},\"type\":\"table\"}],\"barpolar\":[{\"marker\":{\"line\":{\"color\":\"#E5ECF6\",\"width\":0.5},\"pattern\":{\"fillmode\":\"overlay\",\"size\":10,\"solidity\":0.2}},\"type\":\"barpolar\"}],\"pie\":[{\"automargin\":true,\"type\":\"pie\"}]},\"layout\":{\"autotypenumbers\":\"strict\",\"colorway\":[\"#636efa\",\"#EF553B\",\"#00cc96\",\"#ab63fa\",\"#FFA15A\",\"#19d3f3\",\"#FF6692\",\"#B6E880\",\"#FF97FF\",\"#FECB52\"],\"font\":{\"color\":\"#2a3f5f\"},\"hovermode\":\"closest\",\"hoverlabel\":{\"align\":\"left\"},\"paper_bgcolor\":\"white\",\"plot_bgcolor\":\"#E5ECF6\",\"polar\":{\"bgcolor\":\"#E5ECF6\",\"angularaxis\":{\"gridcolor\":\"white\",\"linecolor\":\"white\",\"ticks\":\"\"},\"radialaxis\":{\"gridcolor\":\"white\",\"linecolor\":\"white\",\"ticks\":\"\"}},\"ternary\":{\"bgcolor\":\"#E5ECF6\",\"aaxis\":{\"gridcolor\":\"white\",\"linecolor\":\"white\",\"ticks\":\"\"},\"baxis\":{\"gridcolor\":\"white\",\"linecolor\":\"white\",\"ticks\":\"\"},\"caxis\":{\"gridcolor\":\"white\",\"linecolor\":\"white\",\"ticks\":\"\"}},\"coloraxis\":{\"colorbar\":{\"outlinewidth\":0,\"ticks\":\"\"}},\"colorscale\":{\"sequential\":[[0.0,\"#0d0887\"],[0.1111111111111111,\"#46039f\"],[0.2222222222222222,\"#7201a8\"],[0.3333333333333333,\"#9c179e\"],[0.4444444444444444,\"#bd3786\"],[0.5555555555555556,\"#d8576b\"],[0.6666666666666666,\"#ed7953\"],[0.7777777777777778,\"#fb9f3a\"],[0.8888888888888888,\"#fdca26\"],[1.0,\"#f0f921\"]],\"sequentialminus\":[[0.0,\"#0d0887\"],[0.1111111111111111,\"#46039f\"],[0.2222222222222222,\"#7201a8\"],[0.3333333333333333,\"#9c179e\"],[0.4444444444444444,\"#bd3786\"],[0.5555555555555556,\"#d8576b\"],[0.6666666666666666,\"#ed7953\"],[0.7777777777777778,\"#fb9f3a\"],[0.8888888888888888,\"#fdca26\"],[1.0,\"#f0f921\"]],\"diverging\":[[0,\"#8e0152\"],[0.1,\"#c51b7d\"],[0.2,\"#de77ae\"],[0.3,\"#f1b6da\"],[0.4,\"#fde0ef\"],[0.5,\"#f7f7f7\"],[0.6,\"#e6f5d0\"],[0.7,\"#b8e186\"],[0.8,\"#7fbc41\"],[0.9,\"#4d9221\"],[1,\"#276419\"]]},\"xaxis\":{\"gridcolor\":\"white\",\"linecolor\":\"white\",\"ticks\":\"\",\"title\":{\"standoff\":15},\"zerolinecolor\":\"white\",\"automargin\":true,\"zerolinewidth\":2},\"yaxis\":{\"gridcolor\":\"white\",\"linecolor\":\"white\",\"ticks\":\"\",\"title\":{\"standoff\":15},\"zerolinecolor\":\"white\",\"automargin\":true,\"zerolinewidth\":2},\"scene\":{\"xaxis\":{\"backgroundcolor\":\"#E5ECF6\",\"gridcolor\":\"white\",\"linecolor\":\"white\",\"showbackground\":true,\"ticks\":\"\",\"zerolinecolor\":\"white\",\"gridwidth\":2},\"yaxis\":{\"backgroundcolor\":\"#E5ECF6\",\"gridcolor\":\"white\",\"linecolor\":\"white\",\"showbackground\":true,\"ticks\":\"\",\"zerolinecolor\":\"white\",\"gridwidth\":2},\"zaxis\":{\"backgroundcolor\":\"#E5ECF6\",\"gridcolor\":\"white\",\"linecolor\":\"white\",\"showbackground\":true,\"ticks\":\"\",\"zerolinecolor\":\"white\",\"gridwidth\":2}},\"shapedefaults\":{\"line\":{\"color\":\"#2a3f5f\"}},\"annotationdefaults\":{\"arrowcolor\":\"#2a3f5f\",\"arrowhead\":0,\"arrowwidth\":1},\"geo\":{\"bgcolor\":\"white\",\"landcolor\":\"#E5ECF6\",\"subunitcolor\":\"white\",\"showland\":true,\"showlakes\":true,\"lakecolor\":\"white\"},\"title\":{\"x\":0.05},\"mapbox\":{\"style\":\"light\"}}},\"legend\":{\"tracegroupgap\":0},\"margin\":{\"t\":60}},                        {\"responsive\": true}                    ).then(function(){\n",
              "                            \n",
              "var gd = document.getElementById('31494d4f-042c-4ff5-9d58-359817ef9956');\n",
              "var x = new MutationObserver(function (mutations, observer) {{\n",
              "        var display = window.getComputedStyle(gd).display;\n",
              "        if (!display || display === 'none') {{\n",
              "            console.log([gd, 'removed!']);\n",
              "            Plotly.purge(gd);\n",
              "            observer.disconnect();\n",
              "        }}\n",
              "}});\n",
              "\n",
              "// Listen for the removal of the full notebook cells\n",
              "var notebookContainer = gd.closest('#notebook-container');\n",
              "if (notebookContainer) {{\n",
              "    x.observe(notebookContainer, {childList: true});\n",
              "}}\n",
              "\n",
              "// Listen for the clearing of the current output cell\n",
              "var outputEl = gd.closest('.output');\n",
              "if (outputEl) {{\n",
              "    x.observe(outputEl, {childList: true});\n",
              "}}\n",
              "\n",
              "                        })                };                            </script>        </div>\n",
              "</body>\n",
              "</html>"
            ]
          },
          "metadata": {}
        }
      ]
    },
    {
      "cell_type": "markdown",
      "source": [
        "Сохраняем информацию о путях к изображениям и их метках классов в отдельный файл"
      ],
      "metadata": {
        "id": "Isq8BIxhTQ2a"
      }
    },
    {
      "cell_type": "code",
      "source": [
        "dataset_info = pd.DataFrame(columns=['Image_Path', 'Label'])\n",
        "\n",
        "# Словарь с путями к каталогам изображений и соответствующими метками\n",
        "classes = {\n",
        "    '/kaggle/input/plants-dataset/Var_6/flower': 'Flower',\n",
        "    '/kaggle/input/plants-dataset/Var_6/forest': 'Forest',\n",
        "    '/kaggle/input/plants-dataset/Var_6/house_plant': 'House Plant'\n",
        "}\n",
        "\n",
        "for class_path in classes:\n",
        "    for file_name in os.listdir(class_path):\n",
        "        image_path = os.path.join(class_path, file_name)\n",
        "        label = classes[class_path]\n",
        "        dataset_info = pd.concat([dataset_info, pd.DataFrame({'Image_Path': [image_path], 'Label': [label]})], ignore_index=True)\n",
        "\n",
        "dataset_info.to_csv('plants.csv', index=False)"
      ],
      "metadata": {
        "execution": {
          "iopub.status.busy": "2024-05-23T16:11:27.660536Z",
          "iopub.execute_input": "2024-05-23T16:11:27.661013Z",
          "iopub.status.idle": "2024-05-23T16:11:30.818044Z",
          "shell.execute_reply.started": "2024-05-23T16:11:27.660973Z",
          "shell.execute_reply": "2024-05-23T16:11:30.816967Z"
        },
        "trusted": true,
        "id": "BxxwFYsPTQ2a"
      },
      "execution_count": null,
      "outputs": []
    },
    {
      "cell_type": "markdown",
      "source": [
        "Так как представленные данные классов несбалансированы, для исправления ситуации (то есть для достижения баланса между классами) увеличим количество примеров классе house_plant через технику oversampling"
      ],
      "metadata": {
        "id": "u6xYs75ATQ2b"
      }
    },
    {
      "cell_type": "code",
      "source": [
        "file = pd.read_csv('plants.csv')\n",
        "class_counts = file['Label'].value_counts()\n",
        "\n",
        "# Вычисляем общее количество записей\n",
        "total_records = len(file)\n",
        "\n",
        "# Вычисляем текущее количество записей для house_plant\n",
        "house_plant_count = class_counts['House Plant']\n",
        "\n",
        "# Определяем, сколько раз нужно дублировать записи house_plant, чтобы достичь 50% от общего количества\n",
        "desired_ratio = 0.33  # Желаемое соотношение для house_plant\n",
        "current_ratio = house_plant_count / total_records\n",
        "duplication_factor = desired_ratio / current_ratio\n",
        "\n",
        "# Дублируем записи house_plant\n",
        "house_plant_df = file[file['Label'] == 'House Plant']\n",
        "duplicated_house_plant = pd.concat([house_plant_df]*int(duplication_factor), ignore_index=True)\n",
        "\n",
        "# Объединяем оригинальный датасет с дублированными записями house_plant\n",
        "balanced_dataset = pd.concat([file, duplicated_house_plant], ignore_index=True)\n",
        "\n",
        "# Проверяем новый баланс классов\n",
        "new_class_counts = balanced_dataset['Label'].value_counts()\n",
        "print(new_class_counts)\n",
        "\n",
        "# Сохраняем обновленный датасет\n",
        "balanced_dataset.to_csv('balanced_plants.csv', index=False)\n"
      ],
      "metadata": {
        "execution": {
          "iopub.status.busy": "2024-05-23T16:11:30.821503Z",
          "iopub.execute_input": "2024-05-23T16:11:30.822012Z",
          "iopub.status.idle": "2024-05-23T16:11:30.894413Z",
          "shell.execute_reply.started": "2024-05-23T16:11:30.82198Z",
          "shell.execute_reply": "2024-05-23T16:11:30.893128Z"
        },
        "trusted": true,
        "id": "XV9RGrd1TQ2b",
        "colab": {
          "base_uri": "https://localhost:8080/"
        },
        "outputId": "2fa80e8b-c00a-4a48-ac3a-fc745d079f59"
      },
      "execution_count": null,
      "outputs": [
        {
          "output_type": "stream",
          "name": "stdout",
          "text": [
            "Label\n",
            "Flower         2745\n",
            "Forest         2626\n",
            "House Plant    2405\n",
            "Name: count, dtype: int64\n"
          ]
        }
      ]
    },
    {
      "cell_type": "code",
      "source": [
        "balanced_file = pd.read_csv('balanced_plants.csv')\n",
        "balanced_file"
      ],
      "metadata": {
        "execution": {
          "iopub.status.busy": "2024-05-23T16:11:30.89579Z",
          "iopub.execute_input": "2024-05-23T16:11:30.896192Z",
          "iopub.status.idle": "2024-05-23T16:11:30.930443Z",
          "shell.execute_reply.started": "2024-05-23T16:11:30.896161Z",
          "shell.execute_reply": "2024-05-23T16:11:30.929319Z"
        },
        "trusted": true,
        "id": "UnKFSAhYTQ2b",
        "colab": {
          "base_uri": "https://localhost:8080/",
          "height": 423
        },
        "outputId": "7d0cc899-2262-4596-e007-67f0915c7cb3"
      },
      "execution_count": null,
      "outputs": [
        {
          "output_type": "execute_result",
          "data": {
            "text/plain": [
              "                                             Image_Path        Label\n",
              "0     /kaggle/input/plants-dataset/Var_6/flower/3494...       Flower\n",
              "1     /kaggle/input/plants-dataset/Var_6/flower/1581...       Flower\n",
              "2     /kaggle/input/plants-dataset/Var_6/flower/4980...       Flower\n",
              "3     /kaggle/input/plants-dataset/Var_6/flower/8980...       Flower\n",
              "4     /kaggle/input/plants-dataset/Var_6/flower/1492...       Flower\n",
              "...                                                 ...          ...\n",
              "7771  /kaggle/input/plants-dataset/Var_6/house_plant...  House Plant\n",
              "7772  /kaggle/input/plants-dataset/Var_6/house_plant...  House Plant\n",
              "7773  /kaggle/input/plants-dataset/Var_6/house_plant...  House Plant\n",
              "7774  /kaggle/input/plants-dataset/Var_6/house_plant...  House Plant\n",
              "7775  /kaggle/input/plants-dataset/Var_6/house_plant...  House Plant\n",
              "\n",
              "[7776 rows x 2 columns]"
            ],
            "text/html": [
              "\n",
              "  <div id=\"df-76327ac8-f3cb-4a20-b232-725380b01f18\" class=\"colab-df-container\">\n",
              "    <div>\n",
              "<style scoped>\n",
              "    .dataframe tbody tr th:only-of-type {\n",
              "        vertical-align: middle;\n",
              "    }\n",
              "\n",
              "    .dataframe tbody tr th {\n",
              "        vertical-align: top;\n",
              "    }\n",
              "\n",
              "    .dataframe thead th {\n",
              "        text-align: right;\n",
              "    }\n",
              "</style>\n",
              "<table border=\"1\" class=\"dataframe\">\n",
              "  <thead>\n",
              "    <tr style=\"text-align: right;\">\n",
              "      <th></th>\n",
              "      <th>Image_Path</th>\n",
              "      <th>Label</th>\n",
              "    </tr>\n",
              "  </thead>\n",
              "  <tbody>\n",
              "    <tr>\n",
              "      <th>0</th>\n",
              "      <td>/kaggle/input/plants-dataset/Var_6/flower/3494...</td>\n",
              "      <td>Flower</td>\n",
              "    </tr>\n",
              "    <tr>\n",
              "      <th>1</th>\n",
              "      <td>/kaggle/input/plants-dataset/Var_6/flower/1581...</td>\n",
              "      <td>Flower</td>\n",
              "    </tr>\n",
              "    <tr>\n",
              "      <th>2</th>\n",
              "      <td>/kaggle/input/plants-dataset/Var_6/flower/4980...</td>\n",
              "      <td>Flower</td>\n",
              "    </tr>\n",
              "    <tr>\n",
              "      <th>3</th>\n",
              "      <td>/kaggle/input/plants-dataset/Var_6/flower/8980...</td>\n",
              "      <td>Flower</td>\n",
              "    </tr>\n",
              "    <tr>\n",
              "      <th>4</th>\n",
              "      <td>/kaggle/input/plants-dataset/Var_6/flower/1492...</td>\n",
              "      <td>Flower</td>\n",
              "    </tr>\n",
              "    <tr>\n",
              "      <th>...</th>\n",
              "      <td>...</td>\n",
              "      <td>...</td>\n",
              "    </tr>\n",
              "    <tr>\n",
              "      <th>7771</th>\n",
              "      <td>/kaggle/input/plants-dataset/Var_6/house_plant...</td>\n",
              "      <td>House Plant</td>\n",
              "    </tr>\n",
              "    <tr>\n",
              "      <th>7772</th>\n",
              "      <td>/kaggle/input/plants-dataset/Var_6/house_plant...</td>\n",
              "      <td>House Plant</td>\n",
              "    </tr>\n",
              "    <tr>\n",
              "      <th>7773</th>\n",
              "      <td>/kaggle/input/plants-dataset/Var_6/house_plant...</td>\n",
              "      <td>House Plant</td>\n",
              "    </tr>\n",
              "    <tr>\n",
              "      <th>7774</th>\n",
              "      <td>/kaggle/input/plants-dataset/Var_6/house_plant...</td>\n",
              "      <td>House Plant</td>\n",
              "    </tr>\n",
              "    <tr>\n",
              "      <th>7775</th>\n",
              "      <td>/kaggle/input/plants-dataset/Var_6/house_plant...</td>\n",
              "      <td>House Plant</td>\n",
              "    </tr>\n",
              "  </tbody>\n",
              "</table>\n",
              "<p>7776 rows × 2 columns</p>\n",
              "</div>\n",
              "    <div class=\"colab-df-buttons\">\n",
              "\n",
              "  <div class=\"colab-df-container\">\n",
              "    <button class=\"colab-df-convert\" onclick=\"convertToInteractive('df-76327ac8-f3cb-4a20-b232-725380b01f18')\"\n",
              "            title=\"Convert this dataframe to an interactive table.\"\n",
              "            style=\"display:none;\">\n",
              "\n",
              "  <svg xmlns=\"http://www.w3.org/2000/svg\" height=\"24px\" viewBox=\"0 -960 960 960\">\n",
              "    <path d=\"M120-120v-720h720v720H120Zm60-500h600v-160H180v160Zm220 220h160v-160H400v160Zm0 220h160v-160H400v160ZM180-400h160v-160H180v160Zm440 0h160v-160H620v160ZM180-180h160v-160H180v160Zm440 0h160v-160H620v160Z\"/>\n",
              "  </svg>\n",
              "    </button>\n",
              "\n",
              "  <style>\n",
              "    .colab-df-container {\n",
              "      display:flex;\n",
              "      gap: 12px;\n",
              "    }\n",
              "\n",
              "    .colab-df-convert {\n",
              "      background-color: #E8F0FE;\n",
              "      border: none;\n",
              "      border-radius: 50%;\n",
              "      cursor: pointer;\n",
              "      display: none;\n",
              "      fill: #1967D2;\n",
              "      height: 32px;\n",
              "      padding: 0 0 0 0;\n",
              "      width: 32px;\n",
              "    }\n",
              "\n",
              "    .colab-df-convert:hover {\n",
              "      background-color: #E2EBFA;\n",
              "      box-shadow: 0px 1px 2px rgba(60, 64, 67, 0.3), 0px 1px 3px 1px rgba(60, 64, 67, 0.15);\n",
              "      fill: #174EA6;\n",
              "    }\n",
              "\n",
              "    .colab-df-buttons div {\n",
              "      margin-bottom: 4px;\n",
              "    }\n",
              "\n",
              "    [theme=dark] .colab-df-convert {\n",
              "      background-color: #3B4455;\n",
              "      fill: #D2E3FC;\n",
              "    }\n",
              "\n",
              "    [theme=dark] .colab-df-convert:hover {\n",
              "      background-color: #434B5C;\n",
              "      box-shadow: 0px 1px 3px 1px rgba(0, 0, 0, 0.15);\n",
              "      filter: drop-shadow(0px 1px 2px rgba(0, 0, 0, 0.3));\n",
              "      fill: #FFFFFF;\n",
              "    }\n",
              "  </style>\n",
              "\n",
              "    <script>\n",
              "      const buttonEl =\n",
              "        document.querySelector('#df-76327ac8-f3cb-4a20-b232-725380b01f18 button.colab-df-convert');\n",
              "      buttonEl.style.display =\n",
              "        google.colab.kernel.accessAllowed ? 'block' : 'none';\n",
              "\n",
              "      async function convertToInteractive(key) {\n",
              "        const element = document.querySelector('#df-76327ac8-f3cb-4a20-b232-725380b01f18');\n",
              "        const dataTable =\n",
              "          await google.colab.kernel.invokeFunction('convertToInteractive',\n",
              "                                                    [key], {});\n",
              "        if (!dataTable) return;\n",
              "\n",
              "        const docLinkHtml = 'Like what you see? Visit the ' +\n",
              "          '<a target=\"_blank\" href=https://colab.research.google.com/notebooks/data_table.ipynb>data table notebook</a>'\n",
              "          + ' to learn more about interactive tables.';\n",
              "        element.innerHTML = '';\n",
              "        dataTable['output_type'] = 'display_data';\n",
              "        await google.colab.output.renderOutput(dataTable, element);\n",
              "        const docLink = document.createElement('div');\n",
              "        docLink.innerHTML = docLinkHtml;\n",
              "        element.appendChild(docLink);\n",
              "      }\n",
              "    </script>\n",
              "  </div>\n",
              "\n",
              "\n",
              "<div id=\"df-cf8c5d3e-f73b-4243-8af2-33075cf34026\">\n",
              "  <button class=\"colab-df-quickchart\" onclick=\"quickchart('df-cf8c5d3e-f73b-4243-8af2-33075cf34026')\"\n",
              "            title=\"Suggest charts\"\n",
              "            style=\"display:none;\">\n",
              "\n",
              "<svg xmlns=\"http://www.w3.org/2000/svg\" height=\"24px\"viewBox=\"0 0 24 24\"\n",
              "     width=\"24px\">\n",
              "    <g>\n",
              "        <path d=\"M19 3H5c-1.1 0-2 .9-2 2v14c0 1.1.9 2 2 2h14c1.1 0 2-.9 2-2V5c0-1.1-.9-2-2-2zM9 17H7v-7h2v7zm4 0h-2V7h2v10zm4 0h-2v-4h2v4z\"/>\n",
              "    </g>\n",
              "</svg>\n",
              "  </button>\n",
              "\n",
              "<style>\n",
              "  .colab-df-quickchart {\n",
              "      --bg-color: #E8F0FE;\n",
              "      --fill-color: #1967D2;\n",
              "      --hover-bg-color: #E2EBFA;\n",
              "      --hover-fill-color: #174EA6;\n",
              "      --disabled-fill-color: #AAA;\n",
              "      --disabled-bg-color: #DDD;\n",
              "  }\n",
              "\n",
              "  [theme=dark] .colab-df-quickchart {\n",
              "      --bg-color: #3B4455;\n",
              "      --fill-color: #D2E3FC;\n",
              "      --hover-bg-color: #434B5C;\n",
              "      --hover-fill-color: #FFFFFF;\n",
              "      --disabled-bg-color: #3B4455;\n",
              "      --disabled-fill-color: #666;\n",
              "  }\n",
              "\n",
              "  .colab-df-quickchart {\n",
              "    background-color: var(--bg-color);\n",
              "    border: none;\n",
              "    border-radius: 50%;\n",
              "    cursor: pointer;\n",
              "    display: none;\n",
              "    fill: var(--fill-color);\n",
              "    height: 32px;\n",
              "    padding: 0;\n",
              "    width: 32px;\n",
              "  }\n",
              "\n",
              "  .colab-df-quickchart:hover {\n",
              "    background-color: var(--hover-bg-color);\n",
              "    box-shadow: 0 1px 2px rgba(60, 64, 67, 0.3), 0 1px 3px 1px rgba(60, 64, 67, 0.15);\n",
              "    fill: var(--button-hover-fill-color);\n",
              "  }\n",
              "\n",
              "  .colab-df-quickchart-complete:disabled,\n",
              "  .colab-df-quickchart-complete:disabled:hover {\n",
              "    background-color: var(--disabled-bg-color);\n",
              "    fill: var(--disabled-fill-color);\n",
              "    box-shadow: none;\n",
              "  }\n",
              "\n",
              "  .colab-df-spinner {\n",
              "    border: 2px solid var(--fill-color);\n",
              "    border-color: transparent;\n",
              "    border-bottom-color: var(--fill-color);\n",
              "    animation:\n",
              "      spin 1s steps(1) infinite;\n",
              "  }\n",
              "\n",
              "  @keyframes spin {\n",
              "    0% {\n",
              "      border-color: transparent;\n",
              "      border-bottom-color: var(--fill-color);\n",
              "      border-left-color: var(--fill-color);\n",
              "    }\n",
              "    20% {\n",
              "      border-color: transparent;\n",
              "      border-left-color: var(--fill-color);\n",
              "      border-top-color: var(--fill-color);\n",
              "    }\n",
              "    30% {\n",
              "      border-color: transparent;\n",
              "      border-left-color: var(--fill-color);\n",
              "      border-top-color: var(--fill-color);\n",
              "      border-right-color: var(--fill-color);\n",
              "    }\n",
              "    40% {\n",
              "      border-color: transparent;\n",
              "      border-right-color: var(--fill-color);\n",
              "      border-top-color: var(--fill-color);\n",
              "    }\n",
              "    60% {\n",
              "      border-color: transparent;\n",
              "      border-right-color: var(--fill-color);\n",
              "    }\n",
              "    80% {\n",
              "      border-color: transparent;\n",
              "      border-right-color: var(--fill-color);\n",
              "      border-bottom-color: var(--fill-color);\n",
              "    }\n",
              "    90% {\n",
              "      border-color: transparent;\n",
              "      border-bottom-color: var(--fill-color);\n",
              "    }\n",
              "  }\n",
              "</style>\n",
              "\n",
              "  <script>\n",
              "    async function quickchart(key) {\n",
              "      const quickchartButtonEl =\n",
              "        document.querySelector('#' + key + ' button');\n",
              "      quickchartButtonEl.disabled = true;  // To prevent multiple clicks.\n",
              "      quickchartButtonEl.classList.add('colab-df-spinner');\n",
              "      try {\n",
              "        const charts = await google.colab.kernel.invokeFunction(\n",
              "            'suggestCharts', [key], {});\n",
              "      } catch (error) {\n",
              "        console.error('Error during call to suggestCharts:', error);\n",
              "      }\n",
              "      quickchartButtonEl.classList.remove('colab-df-spinner');\n",
              "      quickchartButtonEl.classList.add('colab-df-quickchart-complete');\n",
              "    }\n",
              "    (() => {\n",
              "      let quickchartButtonEl =\n",
              "        document.querySelector('#df-cf8c5d3e-f73b-4243-8af2-33075cf34026 button');\n",
              "      quickchartButtonEl.style.display =\n",
              "        google.colab.kernel.accessAllowed ? 'block' : 'none';\n",
              "    })();\n",
              "  </script>\n",
              "</div>\n",
              "    </div>\n",
              "  </div>\n"
            ],
            "application/vnd.google.colaboratory.intrinsic+json": {
              "type": "dataframe",
              "variable_name": "balanced_file",
              "summary": "{\n  \"name\": \"balanced_file\",\n  \"rows\": 7776,\n  \"fields\": [\n    {\n      \"column\": \"Image_Path\",\n      \"properties\": {\n        \"dtype\": \"string\",\n        \"num_unique_values\": 5852,\n        \"samples\": [\n          \"/kaggle/input/plants-dataset/Var_6/forest/C8JY5K7DO693.jpg\",\n          \"/kaggle/input/plants-dataset/Var_6/forest/DPJ3D0RYNVMY.jpg\",\n          \"/kaggle/input/plants-dataset/Var_6/forest/CGSYR73W6BCC.jpg\"\n        ],\n        \"semantic_type\": \"\",\n        \"description\": \"\"\n      }\n    },\n    {\n      \"column\": \"Label\",\n      \"properties\": {\n        \"dtype\": \"category\",\n        \"num_unique_values\": 3,\n        \"samples\": [\n          \"Flower\",\n          \"Forest\",\n          \"House Plant\"\n        ],\n        \"semantic_type\": \"\",\n        \"description\": \"\"\n      }\n    }\n  ]\n}"
            }
          },
          "metadata": {},
          "execution_count": 7
        }
      ]
    },
    {
      "cell_type": "markdown",
      "source": [
        "***Создаем генераторы для обучения и тестирования***"
      ],
      "metadata": {
        "id": "WAt7KWYlTQ2c"
      }
    },
    {
      "cell_type": "code",
      "source": [
        "train_file, test_file = train_test_split(balanced_file, test_size=0.2, random_state=42)\n",
        "\n",
        "train_datagen = ImageDataGenerator(rescale=1./255,\n",
        "                                   shear_range=0.2,\n",
        "                                   zoom_range=0.2,\n",
        "                                   horizontal_flip=True,\n",
        "                                   rotation_range=45,\n",
        "                                   vertical_flip=True,\n",
        "                                   fill_mode='nearest')\n",
        "# rescale=1./255 нормализует пиксели изображений, делая их значения находиться в диапазоне от 0 до 1.\n",
        "# Другие параметры применяют случайные преобразования к изображениям для увеличения разнообразия данных\n",
        "# и помощи в обучении модели.\n",
        "train_datagen1 = ImageDataGenerator(rescale=1./255)\n",
        "\n",
        "test_datagen = ImageDataGenerator(rescale=1./255)\n"
      ],
      "metadata": {
        "execution": {
          "iopub.status.busy": "2024-05-23T16:11:30.931831Z",
          "iopub.execute_input": "2024-05-23T16:11:30.932204Z",
          "iopub.status.idle": "2024-05-23T16:11:30.944579Z",
          "shell.execute_reply.started": "2024-05-23T16:11:30.932173Z",
          "shell.execute_reply": "2024-05-23T16:11:30.943106Z"
        },
        "trusted": true,
        "id": "dJWx-c3jTQ2c"
      },
      "execution_count": null,
      "outputs": []
    },
    {
      "cell_type": "code",
      "source": [
        "train_generator = train_datagen.flow_from_dataframe(dataframe=train_file,\n",
        "                                                    x_col=\"Image_Path\",\n",
        "                                                    y_col=\"Label\",\n",
        "                                                    target_size=(255, 255),\n",
        "                                                    batch_size=32,\n",
        "                                                    class_mode=\"categorical\")\n",
        "train_generator1 = train_datagen1.flow_from_dataframe(dataframe=train_file,\n",
        "                                                    x_col=\"Image_Path\",\n",
        "                                                    y_col=\"Label\",\n",
        "                                                    target_size=(255, 255),\n",
        "                                                    batch_size=32,\n",
        "                                                    class_mode=\"categorical\")\n",
        "\n",
        "\n",
        "test_generator = test_datagen.flow_from_dataframe(dataframe=test_file,\n",
        "                                                  x_col=\"Image_Path\",\n",
        "                                                  y_col=\"Label\",\n",
        "                                                  target_size=(255, 255),\n",
        "                                                  batch_size=32,\n",
        "                                                  class_mode=\"categorical\")"
      ],
      "metadata": {
        "execution": {
          "iopub.status.busy": "2024-05-23T16:11:30.946261Z",
          "iopub.execute_input": "2024-05-23T16:11:30.947099Z",
          "iopub.status.idle": "2024-05-23T16:11:37.186161Z",
          "shell.execute_reply.started": "2024-05-23T16:11:30.947064Z",
          "shell.execute_reply": "2024-05-23T16:11:37.184988Z"
        },
        "trusted": true,
        "id": "zLFAaLEETQ2c",
        "colab": {
          "base_uri": "https://localhost:8080/"
        },
        "outputId": "97b9e077-f4cf-4f16-b8e2-988b7c0dcb7e"
      },
      "execution_count": null,
      "outputs": [
        {
          "output_type": "stream",
          "name": "stdout",
          "text": [
            "Found 6220 validated image filenames belonging to 3 classes.\n",
            "Found 6220 validated image filenames belonging to 3 classes.\n",
            "Found 1556 validated image filenames belonging to 3 classes.\n"
          ]
        }
      ]
    },
    {
      "cell_type": "markdown",
      "source": [
        "***Создание модели***"
      ],
      "metadata": {
        "id": "jEqHRlsNTQ2c"
      }
    },
    {
      "cell_type": "code",
      "source": [
        "inputs = Input(shape=(255, 255, 3))\n",
        "x = Flatten()(inputs)\n",
        "x = Dense(128, activation='relu')(x)\n",
        "outputs = Dense(3, activation='softmax')(x)\n",
        "\n",
        "basic_model = Model(inputs=inputs, outputs=outputs)\n",
        "optimizer = tf.keras.optimizers.Adam()\n",
        "basic_model.compile(optimizer=optimizer, loss='categorical_crossentropy', metrics=['accuracy'])"
      ],
      "metadata": {
        "execution": {
          "iopub.status.busy": "2024-05-23T16:11:37.187706Z",
          "iopub.execute_input": "2024-05-23T16:11:37.188206Z",
          "iopub.status.idle": "2024-05-23T16:11:37.511797Z",
          "shell.execute_reply.started": "2024-05-23T16:11:37.188164Z",
          "shell.execute_reply": "2024-05-23T16:11:37.510223Z"
        },
        "trusted": true,
        "id": "G4j9kaLkTQ2c"
      },
      "execution_count": null,
      "outputs": []
    },
    {
      "cell_type": "code",
      "source": [
        "history = basic_model.fit(train_generator1, epochs=6, validation_data=test_generator)"
      ],
      "metadata": {
        "execution": {
          "iopub.status.busy": "2024-05-23T16:11:37.515029Z",
          "iopub.execute_input": "2024-05-23T16:11:37.515564Z"
        },
        "trusted": true,
        "id": "MshqFnhKTQ2c",
        "colab": {
          "base_uri": "https://localhost:8080/"
        },
        "outputId": "c96f75d7-4ca9-4cb0-986a-ba10e938f9e5"
      },
      "execution_count": null,
      "outputs": [
        {
          "output_type": "stream",
          "name": "stdout",
          "text": [
            "Epoch 1/6\n",
            "195/195 [==============================] - 22s 104ms/step - loss: 9.4383 - accuracy: 0.5966 - val_loss: 2.2360 - val_accuracy: 0.6883\n",
            "Epoch 2/6\n",
            "195/195 [==============================] - 19s 98ms/step - loss: 2.9155 - accuracy: 0.6613 - val_loss: 2.6133 - val_accuracy: 0.6819\n",
            "Epoch 3/6\n",
            "195/195 [==============================] - 21s 109ms/step - loss: 3.1490 - accuracy: 0.6743 - val_loss: 3.2374 - val_accuracy: 0.6362\n",
            "Epoch 4/6\n",
            "195/195 [==============================] - 21s 108ms/step - loss: 1.6830 - accuracy: 0.7352 - val_loss: 2.4464 - val_accuracy: 0.6298\n",
            "Epoch 5/6\n",
            "195/195 [==============================] - 22s 113ms/step - loss: 1.4413 - accuracy: 0.7545 - val_loss: 1.6790 - val_accuracy: 0.7641\n",
            "Epoch 6/6\n",
            "195/195 [==============================] - 19s 98ms/step - loss: 0.8899 - accuracy: 0.8064 - val_loss: 0.8678 - val_accuracy: 0.7892\n"
          ]
        }
      ]
    },
    {
      "cell_type": "markdown",
      "source": [
        "# > ***Оценка производительности модели при использовании разных алгоритмов оптимизации***"
      ],
      "metadata": {
        "id": "iEX7WQjbTQ2c"
      }
    },
    {
      "cell_type": "code",
      "source": [
        "model_adam = Sequential()\n",
        "model_adam.add(Conv2D(32, (3, 3), input_shape=(255, 255, 3), activation='relu'))\n",
        "model_adam.add(Conv2D(32, (3, 3), activation='relu', input_shape=(64, 64, 3)))\n",
        "model_adam.add(MaxPooling2D(2, 2))\n",
        "model_adam.add(Conv2D(64, (3, 3), activation='relu'))\n",
        "model_adam.add(MaxPooling2D(2, 2))\n",
        "model_adam.add(Conv2D(128, (3, 3), activation='relu'))\n",
        "model_adam.add(MaxPooling2D(2, 2))\n",
        "model_adam.add(Flatten())\n",
        "model_adam.add(Dense(128, activation='relu'))\n",
        "model_adam.add(Dropout(0.5))\n",
        "model_adam.add(Dense(3, activation='softmax'))\n",
        "\n",
        "model_adam.compile(optimizer='adam', loss='categorical_crossentropy', metrics=['accuracy'])"
      ],
      "metadata": {
        "trusted": true,
        "id": "9yzdt3qVTQ2c"
      },
      "execution_count": null,
      "outputs": []
    },
    {
      "cell_type": "code",
      "source": [
        "history_adam = model_adam.fit(train_generator, epochs=6, validation_data=test_generator)"
      ],
      "metadata": {
        "trusted": true,
        "id": "AhxNOqvkTQ2c",
        "colab": {
          "base_uri": "https://localhost:8080/"
        },
        "outputId": "4e5f19d4-26c6-404e-cbcf-ed2f8cd105e9"
      },
      "execution_count": null,
      "outputs": [
        {
          "output_type": "stream",
          "name": "stdout",
          "text": [
            "Epoch 1/6\n",
            "195/195 [==============================] - 123s 582ms/step - loss: 0.5930 - accuracy: 0.7640 - val_loss: 0.3904 - val_accuracy: 0.8470\n",
            "Epoch 2/6\n",
            "195/195 [==============================] - 112s 573ms/step - loss: 0.3865 - accuracy: 0.8601 - val_loss: 0.2489 - val_accuracy: 0.8985\n",
            "Epoch 3/6\n",
            "195/195 [==============================] - 112s 573ms/step - loss: 0.2853 - accuracy: 0.8974 - val_loss: 0.1890 - val_accuracy: 0.9351\n",
            "Epoch 4/6\n",
            "195/195 [==============================] - 111s 569ms/step - loss: 0.2781 - accuracy: 0.8998 - val_loss: 0.2699 - val_accuracy: 0.8946\n",
            "Epoch 5/6\n",
            "195/195 [==============================] - 112s 574ms/step - loss: 0.2870 - accuracy: 0.8947 - val_loss: 0.2107 - val_accuracy: 0.9165\n",
            "Epoch 6/6\n",
            "195/195 [==============================] - 113s 580ms/step - loss: 0.2159 - accuracy: 0.9219 - val_loss: 0.1383 - val_accuracy: 0.9479\n"
          ]
        }
      ]
    },
    {
      "cell_type": "code",
      "source": [
        "model = Sequential()\n",
        "model.add(Conv2D(32, (3, 3), input_shape=(255, 255, 3), activation='relu'))\n",
        "model.add(Conv2D(32, (3, 3), activation='relu', input_shape=(64, 64, 3)))\n",
        "model.add(MaxPooling2D(2, 2))\n",
        "model.add(Conv2D(64, (3, 3), activation='relu'))\n",
        "model.add(MaxPooling2D(2, 2))\n",
        "model.add(Conv2D(128, (3, 3), activation='relu'))\n",
        "model.add(MaxPooling2D(2, 2))\n",
        "model.add(Flatten())\n",
        "model.add(Dense(128, activation='relu'))\n",
        "model.add(Dropout(0.5))\n",
        "model.add(Dense(3, activation='softmax'))\n",
        "\n",
        "\n",
        "model.compile(optimizer='SGD', loss='categorical_crossentropy', metrics=['accuracy'])"
      ],
      "metadata": {
        "trusted": true,
        "id": "MJqiQMCPTQ2d"
      },
      "execution_count": null,
      "outputs": []
    },
    {
      "cell_type": "code",
      "source": [
        "history_SGD = model.fit(train_generator, epochs=6, validation_data=test_generator)"
      ],
      "metadata": {
        "trusted": true,
        "id": "vTzwWn2mTQ2d",
        "colab": {
          "base_uri": "https://localhost:8080/"
        },
        "outputId": "067ac7ef-1bef-45ed-85e1-91848094f0f9"
      },
      "execution_count": null,
      "outputs": [
        {
          "output_type": "stream",
          "name": "stdout",
          "text": [
            "Epoch 1/6\n",
            "195/195 [==============================] - 114s 571ms/step - loss: 0.8252 - accuracy: 0.6288 - val_loss: 0.5702 - val_accuracy: 0.7641\n",
            "Epoch 2/6\n",
            "195/195 [==============================] - 112s 575ms/step - loss: 0.5635 - accuracy: 0.7838 - val_loss: 0.4895 - val_accuracy: 0.8014\n",
            "Epoch 3/6\n",
            "195/195 [==============================] - 110s 566ms/step - loss: 0.5028 - accuracy: 0.8105 - val_loss: 0.4745 - val_accuracy: 0.8104\n",
            "Epoch 4/6\n",
            "195/195 [==============================] - 112s 572ms/step - loss: 0.4843 - accuracy: 0.8133 - val_loss: 0.4224 - val_accuracy: 0.8361\n",
            "Epoch 5/6\n",
            "195/195 [==============================] - 114s 585ms/step - loss: 0.4417 - accuracy: 0.8296 - val_loss: 0.3922 - val_accuracy: 0.8490\n",
            "Epoch 6/6\n",
            "195/195 [==============================] - 112s 572ms/step - loss: 0.4241 - accuracy: 0.8424 - val_loss: 0.4010 - val_accuracy: 0.8406\n"
          ]
        }
      ]
    },
    {
      "cell_type": "code",
      "source": [
        "model_rms = Sequential()\n",
        "model_rms.add(Conv2D(32, (3, 3), input_shape=(255, 255, 3), activation='relu'))\n",
        "model_rms.add(Conv2D(32, (3, 3), activation='relu', input_shape=(64, 64, 3)))\n",
        "model_rms.add(MaxPooling2D(2, 2))\n",
        "model_rms.add(Conv2D(64, (3, 3), activation='relu'))\n",
        "model_rms.add(MaxPooling2D(2, 2))\n",
        "model_rms.add(Conv2D(128, (3, 3), activation='relu'))\n",
        "model_rms.add(MaxPooling2D(2, 2))\n",
        "model_rms.add(Flatten())\n",
        "model_rms.add(Dense(128, activation='relu'))\n",
        "model_rms.add(Dropout(0.5))\n",
        "model_rms.add(Dense(3, activation='softmax'))\n",
        "\n",
        "\n",
        "model_rms.compile(optimizer='RMSprop', loss='categorical_crossentropy', metrics=['accuracy'])"
      ],
      "metadata": {
        "trusted": true,
        "id": "D-Pz_hIaTQ2d"
      },
      "execution_count": null,
      "outputs": []
    },
    {
      "cell_type": "code",
      "source": [
        "history_RMS = model_rms.fit(train_generator, epochs=6, validation_data=test_generator)"
      ],
      "metadata": {
        "trusted": true,
        "id": "vn3B41NBTQ2d",
        "colab": {
          "base_uri": "https://localhost:8080/"
        },
        "outputId": "ffab6c6d-d023-4d16-e448-889ca33aa297"
      },
      "execution_count": null,
      "outputs": [
        {
          "output_type": "stream",
          "name": "stdout",
          "text": [
            "Epoch 1/6\n",
            "195/195 [==============================] - 113s 567ms/step - loss: 0.7562 - accuracy: 0.7191 - val_loss: 0.5290 - val_accuracy: 0.8091\n",
            "Epoch 2/6\n",
            "195/195 [==============================] - 112s 573ms/step - loss: 0.4819 - accuracy: 0.8256 - val_loss: 0.4659 - val_accuracy: 0.8278\n",
            "Epoch 3/6\n",
            "195/195 [==============================] - 111s 570ms/step - loss: 0.4068 - accuracy: 0.8561 - val_loss: 0.2709 - val_accuracy: 0.8991\n",
            "Epoch 4/6\n",
            "195/195 [==============================] - 111s 571ms/step - loss: 0.4698 - accuracy: 0.8735 - val_loss: 0.2194 - val_accuracy: 0.9190\n",
            "Epoch 5/6\n",
            "195/195 [==============================] - 112s 572ms/step - loss: 0.3292 - accuracy: 0.8931 - val_loss: 0.1462 - val_accuracy: 0.9441\n",
            "Epoch 6/6\n",
            "195/195 [==============================] - 113s 577ms/step - loss: 0.3361 - accuracy: 0.8981 - val_loss: 0.1753 - val_accuracy: 0.9287\n"
          ]
        }
      ]
    },
    {
      "cell_type": "markdown",
      "source": [
        "***построение графиков***"
      ],
      "metadata": {
        "id": "GyJck1SyTQ2d"
      }
    },
    {
      "cell_type": "code",
      "source": [
        "import matplotlib.pyplot as plt\n",
        "\n",
        "acc_Adam = history_adam.history['val_accuracy']\n",
        "acc_SGD = history_SGD.history['val_accuracy']\n",
        "acc_RMS = history_RMS.history['val_accuracy']\n",
        "\n",
        "epochs = range(1, len(acc_Adam) + 1)\n",
        "\n",
        "plt.figure(figsize=(10, 5))\n",
        "\n",
        "plt.plot(epochs, acc_Adam, 'r', label='Adam')\n",
        "plt.plot(epochs, acc_SGD, 'g', label='SGD')\n",
        "plt.plot(epochs, acc_RMS, 'b', label='RMSprop')\n",
        "\n",
        "plt.title('Точность алгоритмов оптимизации')\n",
        "plt.xlabel('Эпохи')\n",
        "plt.ylabel('Точность')\n",
        "plt.legend()\n",
        "\n",
        "plt.show()"
      ],
      "metadata": {
        "trusted": true,
        "id": "D4Xwe_GmTQ2d",
        "colab": {
          "base_uri": "https://localhost:8080/",
          "height": 487
        },
        "outputId": "fe08adf4-a7ac-436c-f1a1-f42263d69496"
      },
      "execution_count": null,
      "outputs": [
        {
          "output_type": "display_data",
          "data": {
            "text/plain": [
              "<Figure size 1000x500 with 1 Axes>"
            ],
            "image/png": "[encoded data removed]"
          },
          "metadata": {}
        }
      ]
    },
    {
      "cell_type": "code",
      "source": [],
      "metadata": {
        "id": "Lp2wkXjzTla4"
      },
      "execution_count": null,
      "outputs": []
    }
  ]
}